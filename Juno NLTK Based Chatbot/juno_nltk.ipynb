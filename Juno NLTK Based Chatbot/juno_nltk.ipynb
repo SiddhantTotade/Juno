{
 "cells": [
  {
   "cell_type": "code",
   "execution_count": 26,
   "metadata": {},
   "outputs": [],
   "source": [
    "import numpy as np\n",
    "import string\n",
    "import random\n",
    "import nltk"
   ]
  },
  {
   "cell_type": "code",
   "execution_count": 27,
   "metadata": {},
   "outputs": [],
   "source": [
    "f = open('./data.txt','r',errors='ignore')\n",
    "raw_doc = f.read()"
   ]
  },
  {
   "cell_type": "code",
   "execution_count": 28,
   "metadata": {},
   "outputs": [
    {
     "name": "stderr",
     "output_type": "stream",
     "text": [
      "[nltk_data] Downloading package punkt to\n",
      "[nltk_data]     /home/siddhanttotade/nltk_data...\n",
      "[nltk_data]   Package punkt is already up-to-date!\n",
      "[nltk_data] Downloading package wordnet to\n",
      "[nltk_data]     /home/siddhanttotade/nltk_data...\n",
      "[nltk_data]   Package wordnet is already up-to-date!\n",
      "[nltk_data] Downloading package omw-1.4 to\n",
      "[nltk_data]     /home/siddhanttotade/nltk_data...\n",
      "[nltk_data]   Package omw-1.4 is already up-to-date!\n"
     ]
    },
    {
     "data": {
      "text/plain": [
       "True"
      ]
     },
     "execution_count": 28,
     "metadata": {},
     "output_type": "execute_result"
    }
   ],
   "source": [
    "raw_doc = raw_doc.lower()\n",
    "nltk.download(\"punkt\")\n",
    "nltk.download(\"wordnet\")\n",
    "nltk.download(\"omw-1.4\") "
   ]
  },
  {
   "cell_type": "code",
   "execution_count": 29,
   "metadata": {},
   "outputs": [],
   "source": [
    "sentence_tokens = nltk.sent_tokenize(raw_doc)\n",
    "word_tokens = nltk.word_tokenize(raw_doc)"
   ]
  },
  {
   "cell_type": "code",
   "execution_count": 31,
   "metadata": {},
   "outputs": [],
   "source": [
    "lemmer = nltk.stem.WordNetLemmatizer()\n",
    "\n",
    "def LemTokens(tokens):\n",
    "    return [lemmer.lemmatize(token) for token in tokens]\n",
    "\n",
    "remove_punc_dict = dict((ord(punct),None) for punct in string.punctuation)\n",
    "\n",
    "def LemNormalize(text):\n",
    "    return LemTokens(nltk.word_tokenize(text.lower().translate(remove_punc_dict)))"
   ]
  },
  {
   "cell_type": "code",
   "execution_count": 32,
   "metadata": {},
   "outputs": [],
   "source": [
    "greet_inputs = (\"hi\",\"hello\",\"whassup\",\"how are you ?\")\n",
    "greet_responses = (\"hi\",\"hey\",\"Hey There\",\"There there\")\n",
    "\n",
    "def greet(sentence):\n",
    "    for word in sentence.split():\n",
    "        if word.lower() in greet_inputs:\n",
    "            return random.choice(greet_responses)"
   ]
  },
  {
   "cell_type": "code",
   "execution_count": 34,
   "metadata": {},
   "outputs": [],
   "source": [
    "from sklearn.feature_extraction.text import TfidfVectorizer\n",
    "from sklearn.metrics.pairwise import cosine_similarity"
   ]
  },
  {
   "cell_type": "code",
   "execution_count": 35,
   "metadata": {},
   "outputs": [],
   "source": [
    "def response(user_response):\n",
    "    robo1_response = ''\n",
    "    TfidVec = TfidfVectorizer(tokenizer=LemNormalize,stop_words='english')\n",
    "    tfidf = TfidVec.fit_transform(sentence_tokens)\n",
    "    vals = cosine_similarity(tfidf[-1],tfidf)\n",
    "    idx = vals.argsort()[0][-2]\n",
    "    flat = vals.flatten()\n",
    "    flat.sort()\n",
    "    req_tfidf = flat[-2]\n",
    "    if(req_tfidf == 0):\n",
    "        robo1_response = robo1_response+\"I am sorry. Unable to understand you.\"\n",
    "        return robo1_response\n",
    "    else:\n",
    "        robo1_response = robo1_response+sentence_tokens[idx] \n",
    "        return robo1_response"
   ]
  },
  {
   "cell_type": "code",
   "execution_count": 37,
   "metadata": {},
   "outputs": [
    {
     "name": "stdout",
     "output_type": "stream",
     "text": [
      "Hii.. I am Juno. Please ask something..\n",
      "Bot : There there\n",
      "Bot :  by responding to any input that contains the word 'mother' with 'tell me more about your family').\n",
      "Bot :  development\n",
      "among the most notable early chatbots are eliza (1966) and parry (1972).\n",
      "Bot :  \"dbpedia chatbot\".\n",
      "Bot :  [10]\n",
      "\n",
      "eliza's key method of operation (copied by chatbot designers ever since) involves the recognition of clue words or phrases in the input, and the output of the corresponding pre-prepared or pre-programmed responses that can move the conversation forward in an apparently meaningful way (e.g.\n",
      "Bot :  [10]\n",
      "\n",
      "eliza's key method of operation (copied by chatbot designers ever since) involves the recognition of clue words or phrases in the input, and the output of the corresponding pre-prepared or pre-programmed responses that can move the conversation forward in an apparently meaningful way (e.g.\n",
      "Bot :  [8]\n",
      "\n",
      "background\n",
      "in 1950, alan turing's famous article \"computing machinery and intelligence\" was published,[9] which proposed what is now called the turing test as a criterion of intelligence.\n",
      "Bot :  [34][35]\n",
      "\n",
      "chatbot sequences\n",
      "used by marketers to script sequences of messages, very similar to an autoresponder sequence.\n",
      "Bot :  [34][35]\n",
      "\n",
      "chatbot sequences\n",
      "used by marketers to script sequences of messages, very similar to an autoresponder sequence.\n",
      "Bot : Goodbye.\n"
     ]
    }
   ],
   "source": [
    "flag = True\n",
    "print(\"Hii.. I am Juno. Please ask something..\")\n",
    "while(flag == True):\n",
    "    user_response = input().lower()\n",
    "    # user_response = user_response.lower()\n",
    "\n",
    "    if user_response != 'bye':\n",
    "        if user_response == 'thank you' or user_response == 'thanks':\n",
    "            flag = False\n",
    "            print(\"Bot : You are welcome.\")\n",
    "        else:\n",
    "            if greet(user_response) != None:\n",
    "                print(\"Bot : \" + greet(user_response))\n",
    "            else:\n",
    "                sentence_tokens.append(user_response)\n",
    "                word_tokens =  word_tokens + nltk.word_tokenize(user_response)\n",
    "                final_words = list(set(word_tokens))\n",
    "                print(\"Bot : \",end=\" \")\n",
    "                print(response(user_response))\n",
    "                sentence_tokens.remove(user_response)\n",
    "    else:\n",
    "        flag = False\n",
    "        print(\"Bot : Goodbye.\")"
   ]
  }
 ],
 "metadata": {
  "kernelspec": {
   "display_name": "Python 3",
   "language": "python",
   "name": "python3"
  },
  "language_info": {
   "codemirror_mode": {
    "name": "ipython",
    "version": 3
   },
   "file_extension": ".py",
   "mimetype": "text/x-python",
   "name": "python",
   "nbconvert_exporter": "python",
   "pygments_lexer": "ipython3",
   "version": "3.10.7"
  },
  "orig_nbformat": 4,
  "vscode": {
   "interpreter": {
    "hash": "e7370f93d1d0cde622a1f8e1c04877d8463912d04d973331ad4851f04de6915a"
   }
  }
 },
 "nbformat": 4,
 "nbformat_minor": 2
}

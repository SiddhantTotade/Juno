{
 "cells": [
  {
   "cell_type": "code",
   "execution_count": 4,
   "metadata": {},
   "outputs": [],
   "source": [
    "import re\n",
    "import random"
   ]
  },
  {
   "cell_type": "code",
   "execution_count": null,
   "metadata": {},
   "outputs": [],
   "source": [
    "class RuleBot:\n",
    "    # Potential Negetive Responses\n",
    "    negetive_responses = ('no','nope','nah','naw','not a chance','sorry')\n",
    "    # Exit Conversations\n",
    "    exit_commands = ('quit','pause','exit','bye','goodbye','later')\n",
    "    # Random questions\n",
    "    random_questions = (\n",
    "        'Why are you here ?',\n",
    "        'Are there many humans like you ?',\n",
    "        'What do you consume for susteanance ?',\n",
    "        'Is there intelligent life on this planet ?',\n",
    "        'Does earth have leader ?'\n",
    "        'What planets have you visited ?'\n",
    "        'What technology do you have on this planet ?'\n",
    "    )\n",
    "\n",
    "    def __init__(self):\n",
    "        self.junobabble = {\n",
    "            'desceribe_planet_intent':r'.*\\s*your planet.',\n",
    "            'answer_why_intent':r'why\\sare.*',\n",
    "            'about_sid':r'.*\\s*sid'\n",
    "        }\n",
    "    \n",
    "    def greet(self):\n",
    "        self.name = input(\"What is your name ?\\n\")\n",
    "        will_help = input(f\"Hii {self.name}, I am Juno. Will you help me to learn about your planet ?\")\n",
    "        if will_help in self.negetive_responses:\n",
    "            print(\"Ok, have a nice day.\")\n",
    "            return\n",
    "        self.chat()\n",
    "    \n",
    "    def make_exit(self,reply):\n",
    "        for command in self.exit_commands:\n",
    "            if reply == command:\n",
    "                print(\"Okay, have a nice day\")\n",
    "                return True\n",
    "    \n",
    "    def chat(self):\n",
    "        reply =input(random.choice(self.random_questions)).lower()\n",
    "        while not self.make_exit(reply):\n",
    "            reply = input(self.match_reply(reply))\n",
    "    \n",
    "    def match_reply(self,reply):\n",
    "        for key,value in self.junobabble.items():\n",
    "            intent = key\n",
    "            regex_patterns = value\n",
    "            found_match = re.match(regex_patterns,reply)\n",
    "            if found_match and intent == 'describe_planet_intent':\n",
    "                return self.describe_planet_intent()\n",
    "            elif found_match and intent == 'answer_why_intent':\n",
    "                return self.answer_why_intent()\n",
    "            elif found_match and intent == 'about_sid':\n",
    "                return self.about_sid()\n",
    "        if not found_match:\n",
    "            return self.no_match_intent()\n"
   ]
  }
 ],
 "metadata": {
  "kernelspec": {
   "display_name": "Python 3",
   "language": "python",
   "name": "python3"
  },
  "language_info": {
   "codemirror_mode": {
    "name": "ipython",
    "version": 3
   },
   "file_extension": ".py",
   "mimetype": "text/x-python",
   "name": "python",
   "nbconvert_exporter": "python",
   "pygments_lexer": "ipython3",
   "version": "3.10.7"
  },
  "orig_nbformat": 4,
  "vscode": {
   "interpreter": {
    "hash": "e7370f93d1d0cde622a1f8e1c04877d8463912d04d973331ad4851f04de6915a"
   }
  }
 },
 "nbformat": 4,
 "nbformat_minor": 2
}

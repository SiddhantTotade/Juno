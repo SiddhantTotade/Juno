{
 "cells": [
  {
   "cell_type": "code",
   "execution_count": 4,
   "metadata": {},
   "outputs": [],
   "source": [
    "import re\n",
    "import random"
   ]
  },
  {
   "cell_type": "code",
   "execution_count": null,
   "metadata": {},
   "outputs": [],
   "source": [
    "class RuleBot:\n",
    "    # Potential Negetive Responses\n",
    "    negetive_responses = ('no','nope','nah','naw','not a chance','sorry')\n",
    "    # Exit Conversations\n",
    "    exit_commands = ('quit','pause','exit','bye','goodbye','later')\n",
    "    # Random questions\n",
    "    random_questions = (\n",
    "        'Why are you here ?',\n",
    "        'Are there many humans like you ?',\n",
    "        'What do you consume for susteanance ?',\n",
    "        'Is there intelligent life on this planet ?',\n",
    "        'Does earth have leader ?'\n",
    "        'What planets have you visited ?'\n",
    "        'What technology do you have on this planet ?'\n",
    "    )"
   ]
  }
 ],
 "metadata": {
  "kernelspec": {
   "display_name": "Python 3",
   "language": "python",
   "name": "python3"
  },
  "language_info": {
   "codemirror_mode": {
    "name": "ipython",
    "version": 3
   },
   "file_extension": ".py",
   "mimetype": "text/x-python",
   "name": "python",
   "nbconvert_exporter": "python",
   "pygments_lexer": "ipython3",
   "version": "3.10.7"
  },
  "orig_nbformat": 4,
  "vscode": {
   "interpreter": {
    "hash": "e7370f93d1d0cde622a1f8e1c04877d8463912d04d973331ad4851f04de6915a"
   }
  }
 },
 "nbformat": 4,
 "nbformat_minor": 2
}
